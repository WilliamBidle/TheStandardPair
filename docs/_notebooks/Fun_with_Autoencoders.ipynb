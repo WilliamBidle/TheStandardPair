{
 "cells": [
  {
   "cell_type": "markdown",
   "id": "330859a7",
   "metadata": {},
   "source": [
    "# Import "
   ]
  },
  {
   "cell_type": "code",
   "execution_count": 1,
   "id": "55a556e8",
   "metadata": {},
   "outputs": [],
   "source": [
    "from keras import layers\n",
    "from keras.layers import Input, Dense,Flatten\n",
    "from keras.models import Model, Sequential\n",
    "from keras.datasets import mnist\n",
    "\n",
    "import itertools\n",
    "\n",
    "from sklearn.model_selection import train_test_split\n",
    "\n",
    "import numpy as np\n",
    "\n",
    "import matplotlib.pyplot as plt"
   ]
  },
  {
   "cell_type": "code",
   "execution_count": 2,
   "id": "0b56b0ef",
   "metadata": {},
   "outputs": [],
   "source": [
    "encoding_dim = 32  # 32 floats -> compression of factor 24.5, assuming the input is 784 floats"
   ]
  },
  {
   "cell_type": "code",
   "execution_count": 3,
   "id": "f7912d91",
   "metadata": {},
   "outputs": [],
   "source": [
    "# this is our input placeholder\n",
    "input_img = Input(shape=(784,))\n",
    "\n",
    "# \"encoded\" is the encoded representation of the input\n",
    "encoded = Dense(encoding_dim, activation='relu')(input_img)\n",
    "\n",
    "# \"decoded\" is the lossy reconstruction of the input\n",
    "decoded = Dense(784, activation='sigmoid')(encoded)\n",
    "\n",
    "autoencoder = Model(input_img, decoded)\n",
    "\n",
    "encoder = Model(input_img, encoded)\n",
    "encoded_input = Input(shape=(encoding_dim,))\n",
    "\n",
    "decoder_layer = autoencoder.layers[-1]\n",
    "decoder = Model(encoded_input, decoder_layer(encoded_input))\n"
   ]
  },
  {
   "cell_type": "code",
   "execution_count": 4,
   "id": "5882c740",
   "metadata": {},
   "outputs": [],
   "source": [
    "autoencoder.compile(optimizer='adam', loss='binary_crossentropy')"
   ]
  },
  {
   "cell_type": "code",
   "execution_count": 5,
   "id": "b2a9bfb2",
   "metadata": {},
   "outputs": [
    {
     "name": "stdout",
     "output_type": "stream",
     "text": [
      "(60000, 784)\n",
      "(10000, 784)\n"
     ]
    }
   ],
   "source": [
    "(x_train, _), (x_test, _) = mnist.load_data()\n",
    "\n",
    "x_train = x_train.astype('float32') / 255.\n",
    "x_test = x_test.astype('float32') / 255.\n",
    "\n",
    "x_train = x_train.reshape((len(x_train), np.prod(x_train.shape[1:])))\n",
    "x_test = x_test.reshape((len(x_test), np.prod(x_test.shape[1:])))\n",
    "\n",
    "print (x_train.shape)\n",
    "print (x_test.shape)"
   ]
  },
  {
   "cell_type": "markdown",
   "id": "d985d0b5",
   "metadata": {},
   "source": [
    "# Train"
   ]
  },
  {
   "cell_type": "code",
   "execution_count": 6,
   "id": "7a0370e6",
   "metadata": {},
   "outputs": [
    {
     "name": "stdout",
     "output_type": "stream",
     "text": [
      "Epoch 1/50\n",
      "235/235 [==============================] - 2s 6ms/step - loss: 0.2803 - val_loss: 0.1921\n",
      "Epoch 2/50\n",
      "235/235 [==============================] - 1s 5ms/step - loss: 0.1723 - val_loss: 0.1549\n",
      "Epoch 3/50\n",
      "235/235 [==============================] - 1s 4ms/step - loss: 0.1454 - val_loss: 0.1349\n",
      "Epoch 4/50\n",
      "235/235 [==============================] - 1s 5ms/step - loss: 0.1278 - val_loss: 0.1204\n",
      "Epoch 5/50\n",
      "235/235 [==============================] - 1s 5ms/step - loss: 0.1175 - val_loss: 0.1120\n",
      "Epoch 6/50\n",
      "235/235 [==============================] - 1s 6ms/step - loss: 0.1104 - val_loss: 0.1061\n",
      "Epoch 7/50\n",
      "235/235 [==============================] - 1s 5ms/step - loss: 0.1052 - val_loss: 0.1017\n",
      "Epoch 8/50\n",
      "235/235 [==============================] - 1s 6ms/step - loss: 0.1014 - val_loss: 0.0986\n",
      "Epoch 9/50\n",
      "235/235 [==============================] - 1s 5ms/step - loss: 0.0988 - val_loss: 0.0965\n",
      "Epoch 10/50\n",
      "235/235 [==============================] - 1s 5ms/step - loss: 0.0971 - val_loss: 0.0952\n",
      "Epoch 11/50\n",
      "235/235 [==============================] - 1s 5ms/step - loss: 0.0960 - val_loss: 0.0943\n",
      "Epoch 12/50\n",
      "235/235 [==============================] - 1s 5ms/step - loss: 0.0953 - val_loss: 0.0937\n",
      "Epoch 13/50\n",
      "235/235 [==============================] - 1s 5ms/step - loss: 0.0948 - val_loss: 0.0933\n",
      "Epoch 14/50\n",
      "235/235 [==============================] - 1s 5ms/step - loss: 0.0944 - val_loss: 0.0930\n",
      "Epoch 15/50\n",
      "235/235 [==============================] - 1s 5ms/step - loss: 0.0942 - val_loss: 0.0927\n",
      "Epoch 16/50\n",
      "235/235 [==============================] - 1s 5ms/step - loss: 0.0940 - val_loss: 0.0926\n",
      "Epoch 17/50\n",
      "235/235 [==============================] - 1s 5ms/step - loss: 0.0938 - val_loss: 0.0924\n",
      "Epoch 18/50\n",
      "235/235 [==============================] - 1s 5ms/step - loss: 0.0937 - val_loss: 0.0924\n",
      "Epoch 19/50\n",
      "235/235 [==============================] - 1s 5ms/step - loss: 0.0936 - val_loss: 0.0923\n",
      "Epoch 20/50\n",
      "235/235 [==============================] - 1s 5ms/step - loss: 0.0935 - val_loss: 0.0922\n",
      "Epoch 21/50\n",
      "235/235 [==============================] - 1s 5ms/step - loss: 0.0935 - val_loss: 0.0921\n",
      "Epoch 22/50\n",
      "235/235 [==============================] - 1s 5ms/step - loss: 0.0934 - val_loss: 0.0921\n",
      "Epoch 23/50\n",
      "235/235 [==============================] - 1s 5ms/step - loss: 0.0933 - val_loss: 0.0921\n",
      "Epoch 24/50\n",
      "235/235 [==============================] - 1s 5ms/step - loss: 0.0933 - val_loss: 0.0920\n",
      "Epoch 25/50\n",
      "235/235 [==============================] - 1s 5ms/step - loss: 0.0933 - val_loss: 0.0920\n",
      "Epoch 26/50\n",
      "235/235 [==============================] - 1s 5ms/step - loss: 0.0932 - val_loss: 0.0919\n",
      "Epoch 27/50\n",
      "235/235 [==============================] - 1s 5ms/step - loss: 0.0932 - val_loss: 0.0919\n",
      "Epoch 28/50\n",
      "235/235 [==============================] - 1s 5ms/step - loss: 0.0932 - val_loss: 0.0919\n",
      "Epoch 29/50\n",
      "235/235 [==============================] - 1s 5ms/step - loss: 0.0931 - val_loss: 0.0918\n",
      "Epoch 30/50\n",
      "235/235 [==============================] - 1s 5ms/step - loss: 0.0931 - val_loss: 0.0918\n",
      "Epoch 31/50\n",
      "235/235 [==============================] - 1s 5ms/step - loss: 0.0931 - val_loss: 0.0918\n",
      "Epoch 32/50\n",
      "235/235 [==============================] - 1s 5ms/step - loss: 0.0930 - val_loss: 0.0918\n",
      "Epoch 33/50\n",
      "235/235 [==============================] - 1s 5ms/step - loss: 0.0930 - val_loss: 0.0918\n",
      "Epoch 34/50\n",
      "235/235 [==============================] - 1s 5ms/step - loss: 0.0930 - val_loss: 0.0918\n",
      "Epoch 35/50\n",
      "235/235 [==============================] - 1s 6ms/step - loss: 0.0930 - val_loss: 0.0917\n",
      "Epoch 36/50\n",
      "235/235 [==============================] - 1s 6ms/step - loss: 0.0930 - val_loss: 0.0918\n",
      "Epoch 37/50\n",
      "235/235 [==============================] - 1s 5ms/step - loss: 0.0930 - val_loss: 0.0917\n",
      "Epoch 38/50\n",
      "235/235 [==============================] - 1s 5ms/step - loss: 0.0929 - val_loss: 0.0918\n",
      "Epoch 39/50\n",
      "235/235 [==============================] - 1s 5ms/step - loss: 0.0929 - val_loss: 0.0917\n",
      "Epoch 40/50\n",
      "235/235 [==============================] - 1s 5ms/step - loss: 0.0929 - val_loss: 0.0916\n",
      "Epoch 41/50\n",
      "235/235 [==============================] - 1s 5ms/step - loss: 0.0929 - val_loss: 0.0917\n",
      "Epoch 42/50\n",
      "235/235 [==============================] - 1s 5ms/step - loss: 0.0929 - val_loss: 0.0917\n",
      "Epoch 43/50\n",
      "235/235 [==============================] - 1s 5ms/step - loss: 0.0929 - val_loss: 0.0917\n",
      "Epoch 44/50\n",
      "235/235 [==============================] - 1s 5ms/step - loss: 0.0928 - val_loss: 0.0917\n",
      "Epoch 45/50\n",
      "235/235 [==============================] - 1s 5ms/step - loss: 0.0928 - val_loss: 0.0916\n",
      "Epoch 46/50\n",
      "235/235 [==============================] - 1s 5ms/step - loss: 0.0928 - val_loss: 0.0917\n",
      "Epoch 47/50\n",
      "235/235 [==============================] - 1s 5ms/step - loss: 0.0928 - val_loss: 0.0916\n",
      "Epoch 48/50\n",
      "235/235 [==============================] - 1s 5ms/step - loss: 0.0928 - val_loss: 0.0916\n",
      "Epoch 49/50\n",
      "235/235 [==============================] - 1s 5ms/step - loss: 0.0928 - val_loss: 0.0916\n",
      "Epoch 50/50\n",
      "235/235 [==============================] - 1s 5ms/step - loss: 0.0928 - val_loss: 0.0916\n"
     ]
    },
    {
     "data": {
      "text/plain": [
       "<keras.callbacks.History at 0x7f858d77b9a0>"
      ]
     },
     "execution_count": 6,
     "metadata": {},
     "output_type": "execute_result"
    }
   ],
   "source": [
    "autoencoder.fit(x_train, x_train,\n",
    "                epochs=50,\n",
    "                batch_size=256,\n",
    "                shuffle=True,\n",
    "                validation_data=(x_test, x_test))"
   ]
  },
  {
   "cell_type": "code",
   "execution_count": 7,
   "id": "f57edfa1",
   "metadata": {},
   "outputs": [],
   "source": [
    "encoded_imgs = encoder.predict(x_test)\n",
    "decoded_imgs = decoder.predict(encoded_imgs)"
   ]
  },
  {
   "cell_type": "code",
   "execution_count": 8,
   "id": "3899e778",
   "metadata": {},
   "outputs": [
    {
     "data": {
      "image/png": "[encoded data removed]",
      "text/plain": [
       "<Figure size 1440x288 with 20 Axes>"
      ]
     },
     "metadata": {
      "needs_background": "light"
     },
     "output_type": "display_data"
    }
   ],
   "source": [
    "n = 10  # how many digits we will display\n",
    "plt.figure(figsize=(20, 4))\n",
    "for i in range(n):\n",
    "    # display original\n",
    "    ax = plt.subplot(2, n, i + 1)\n",
    "    plt.imshow(x_test[i].reshape(28, 28))\n",
    "    plt.gray()\n",
    "    ax.get_xaxis().set_visible(False)\n",
    "    ax.get_yaxis().set_visible(False)\n",
    "    \n",
    "    # display reconstruction\n",
    "    ax = plt.subplot(2, n, i + 1 + n)\n",
    "    plt.imshow(decoded_imgs[i].reshape(28, 28))\n",
    "    plt.gray()\n",
    "    ax.get_xaxis().set_visible(False)\n",
    "    ax.get_yaxis().set_visible(False)\n",
    "plt.show()"
   ]
  },
  {
   "cell_type": "markdown",
   "id": "4488a55e",
   "metadata": {},
   "source": [
    "# Part I "
   ]
  },
  {
   "cell_type": "code",
   "execution_count": 9,
   "id": "73a6497c",
   "metadata": {},
   "outputs": [
    {
     "name": "stdout",
     "output_type": "stream",
     "text": [
      "diff [ -1.62514528  -5.68960479  -0.53055373 ...   1.487708   -13.97983695\n",
      "   9.49379044]\n"
     ]
    }
   ],
   "source": [
    "n = len(encoded_imgs)\n",
    "sumOfTest = []\n",
    "sumOfDecoded = []\n",
    "\n",
    "#for each image (encoded and decoded) find the sum of all of the pixels \n",
    "#10000 images \n",
    "for i in range(n):\n",
    "    summedTest = sum(x_test[i])\n",
    "    summedDecoded = sum(decoded_imgs[i])\n",
    "    \n",
    "    #add the summed pixels (integer) to array (10000x1)\n",
    "    sumOfTest.append(summedTest)\n",
    "    sumOfDecoded.append(summedDecoded)\n",
    "    \n",
    "\n",
    "sumOfTest = np.array(sumOfTest)\n",
    "sumOfDecoded = np.array(sumOfDecoded)\n",
    "\n",
    "#difference between test(encoded images) and decoded images \n",
    "difference = sumOfTest - sumOfDecoded\n",
    "print('diff',difference)"
   ]
  },
  {
   "cell_type": "code",
   "execution_count": 10,
   "id": "32ca2dcd",
   "metadata": {},
   "outputs": [
    {
     "name": "stdout",
     "output_type": "stream",
     "text": [
      "Highest Error Images: {8561: -24.671433114433, 9494: -22.878208675490754, 665: -20.699291595663993, 8570: -19.913747928432116, 4547: -19.20403600073014, 5153: -17.852923588741675, 6057: -17.08738182866435, 2669: -16.7369256694422, 9377: -16.510660718952238, 1995: -16.37598409436535}\n"
     ]
    }
   ],
   "source": [
    "#create dictionary to map each index to its error value \n",
    "Dict = {}\n",
    "\n",
    "for i in range(len(difference)): \n",
    "    #contains 10,000 indices with respective errors \n",
    "    Dict[i] = difference[i]\n",
    "    \n",
    "#sort the dictionary from smallest # (highest error) to lowest error \n",
    "sorting = dict(sorted(Dict.items(), key=lambda item: item[1]))\n",
    "\n",
    "#choose the top ten highest errors from Dictionary \n",
    "x = dict(itertools.islice(sorting.items(), 10))\n",
    "print('Highest Error Images:',x)"
   ]
  },
  {
   "cell_type": "code",
   "execution_count": 11,
   "id": "33b9b773",
   "metadata": {},
   "outputs": [
    {
     "data": {
      "image/png": "[encoded data removed]",
      "text/plain": [
       "<Figure size 1440x288 with 20 Axes>"
      ]
     },
     "metadata": {
      "needs_background": "light"
     },
     "output_type": "display_data"
    },
    {
     "name": "stdout",
     "output_type": "stream",
     "text": [
      "we can see some of the reconstructed images are very low quality in comparison to the original images.\n",
      "For example images 1 and 5 (numbers 4 and 6 respectively) share the general shape with the original images but have a lot of noise\n"
     ]
    }
   ],
   "source": [
    "#turn dictionary into list of indices that contain highest error images \n",
    "indices = list(x)\n",
    "#images displayed\n",
    "n = len(indices)  \n",
    "\n",
    "plt.figure(figsize=(20, 4))\n",
    "for i in range(len(indices)):\n",
    "    #display original\n",
    "    ax = plt.subplot(2, n, i + 1)\n",
    "    plt.imshow(x_test[indices[i]].reshape(28, 28))\n",
    "    plt.gray()\n",
    "    ax.get_xaxis().set_visible(False)\n",
    "    ax.get_yaxis().set_visible(False)\n",
    "    \n",
    "    #display reconstruction\n",
    "    ax = plt.subplot(2, n, i + 1 + n)\n",
    "    plt.imshow(decoded_imgs[indices[i]].reshape(28, 28))\n",
    "    plt.gray()\n",
    "    ax.get_xaxis().set_visible(False)\n",
    "    ax.get_yaxis().set_visible(False)\n",
    "    \n",
    "plt.show()    \n",
    "\n",
    "print('we can see some of the reconstructed images are very low quality in comparison to the original images.')\n",
    "print('For example images 1 and 5 (numbers 4 and 6 respectively) share the general shape with the original images but have a lot of noise')"
   ]
  },
  {
   "cell_type": "markdown",
   "id": "984a7128",
   "metadata": {},
   "source": [
    "# Part II "
   ]
  },
  {
   "cell_type": "code",
   "execution_count": null,
   "id": "a0db1ac1",
   "metadata": {},
   "outputs": [],
   "source": []
  },
  {
   "cell_type": "code",
   "execution_count": 40,
   "id": "0b055a2f",
   "metadata": {},
   "outputs": [],
   "source": []
  },
  {
   "cell_type": "code",
   "execution_count": 62,
   "id": "15c7031c",
   "metadata": {},
   "outputs": [],
   "source": [
    "#read in data \n",
    "test = np.random.rand(100000, 30)"
   ]
  },
  {
   "cell_type": "code",
   "execution_count": 63,
   "id": "2647c663",
   "metadata": {},
   "outputs": [
    {
     "data": {
      "text/plain": [
       "array([0.18006454, 0.55502222, 0.27288232, 0.64287583, 0.94934877,\n",
       "       0.0278359 , 0.11738379, 0.41057802, 0.08185935, 0.75965262,\n",
       "       0.32148389, 0.76260317, 0.57429946, 0.89783374, 0.04568753,\n",
       "       0.88602221, 0.65225593, 0.38228655, 0.08588702, 0.30779586,\n",
       "       0.3977633 , 0.78348077, 0.91074354, 0.77384539, 0.15371734,\n",
       "       0.31403603, 0.65668317, 0.5585711 , 0.81093695, 0.50742972])"
      ]
     },
     "execution_count": 63,
     "metadata": {},
     "output_type": "execute_result"
    }
   ],
   "source": [
    "test[0]"
   ]
  },
  {
   "cell_type": "markdown",
   "id": "1107308e",
   "metadata": {},
   "source": [
    "# Part 2.1 Vanilla Autoencoder\n",
    "## Number of hidden layers nodes = 2\n",
    "## 1 Layer "
   ]
  },
  {
   "cell_type": "code",
   "execution_count": 64,
   "id": "1169d635",
   "metadata": {},
   "outputs": [],
   "source": [
    "# number of hidden layers \n",
    "encoding_dim = 2\n",
    "\n",
    "# input dimensions \n",
    "input_img = Input(shape=(30,))\n",
    "\n",
    "# encoded representation of the input\n",
    "encoded = Dense(encoding_dim, activation='relu')(input_img)\n",
    "\n",
    "# lossy reconstruction of the input\n",
    "# tanh produces better results than sigmoid \n",
    "decoded = Dense(30, activation='sigmoid')(encoded)\n",
    "\n",
    "autoencoder = Model(input_img, decoded)\n",
    "\n",
    "encoder = Model(input_img, encoded)\n",
    "encoded_input = Input(shape=(encoding_dim,))\n",
    "\n",
    "decoder_layer = autoencoder.layers[-1]\n",
    "decoder = Model(encoded_input, decoder_layer(encoded_input))\n"
   ]
  },
  {
   "cell_type": "code",
   "execution_count": 65,
   "id": "ffdb26e1",
   "metadata": {},
   "outputs": [],
   "source": [
    "autoencoder.compile(optimizer='adam', loss = 'binary_crossentropy')"
   ]
  },
  {
   "cell_type": "code",
   "execution_count": 66,
   "id": "be9e324d",
   "metadata": {},
   "outputs": [
    {
     "name": "stdout",
     "output_type": "stream",
     "text": [
      "(90000, 30)\n",
      "(10000, 30)\n"
     ]
    }
   ],
   "source": [
    "#split training and testing data \n",
    "x_train, x_test, = train_test_split(test, test_size=0.1, random_state=42)\n",
    "#get classes for training and testing \n",
    "\n",
    "\n",
    "x_train = x_train.astype('float32')\n",
    "x_test = x_test.astype('float32')\n",
    "\n",
    "print (x_train.shape)\n",
    "print (x_test.shape)"
   ]
  },
  {
   "cell_type": "code",
   "execution_count": 67,
   "id": "ccb8449a",
   "metadata": {},
   "outputs": [
    {
     "name": "stdout",
     "output_type": "stream",
     "text": [
      "Epoch 1/10\n",
      "900/900 [==============================] - 1s 743us/step - loss: 0.6887\n",
      "Epoch 2/10\n",
      "900/900 [==============================] - 1s 820us/step - loss: 0.6826\n",
      "Epoch 3/10\n",
      "900/900 [==============================] - 1s 739us/step - loss: 0.6821\n",
      "Epoch 4/10\n",
      "900/900 [==============================] - 1s 737us/step - loss: 0.6820\n",
      "Epoch 5/10\n",
      "900/900 [==============================] - 1s 772us/step - loss: 0.6819\n",
      "Epoch 6/10\n",
      "900/900 [==============================] - 1s 727us/step - loss: 0.6819\n",
      "Epoch 7/10\n",
      "900/900 [==============================] - 1s 768us/step - loss: 0.6818\n",
      "Epoch 8/10\n",
      "900/900 [==============================] - 1s 757us/step - loss: 0.6818\n",
      "Epoch 9/10\n",
      "900/900 [==============================] - 1s 889us/step - loss: 0.6818\n",
      "Epoch 10/10\n",
      "900/900 [==============================] - 1s 816us/step - loss: 0.6817\n",
      "Model: \"model_15\"\n",
      "_________________________________________________________________\n",
      " Layer (type)                Output Shape              Param #   \n",
      "=================================================================\n",
      " input_11 (InputLayer)       [(None, 30)]              0         \n",
      "                                                                 \n",
      " dense_12 (Dense)            (None, 2)                 62        \n",
      "                                                                 \n",
      " dense_13 (Dense)            (None, 30)                90        \n",
      "                                                                 \n",
      "=================================================================\n",
      "Total params: 152\n",
      "Trainable params: 152\n",
      "Non-trainable params: 0\n",
      "_________________________________________________________________\n"
     ]
    }
   ],
   "source": [
    "# train the model\n",
    "autoencoder.fit(x_train,\n",
    "                x_train,\n",
    "                epochs=10,\n",
    "                batch_size=100,\n",
    "                shuffle=True)\n",
    "\n",
    "autoencoder.summary()"
   ]
  },
  {
   "cell_type": "markdown",
   "id": "07d1b3da",
   "metadata": {},
   "source": [
    "# Part 2.3/ 2.4\n",
    "### Histogram for Vanilla Autoencoder "
   ]
  },
  {
   "cell_type": "code",
   "execution_count": 74,
   "id": "0d91bf3d",
   "metadata": {},
   "outputs": [
    {
     "name": "stdout",
     "output_type": "stream",
     "text": [
      "[0.42202547 0.49115387 0.9225654  0.8874823  0.19123456 0.06809029\n",
      " 0.12786444 0.3399069  0.14976655 0.38498974 0.49298105 0.33693713\n",
      " 0.47859    0.32057515 0.75022095 0.29893392 0.05997148 0.47531074\n",
      " 0.73676974 0.85654175 0.00191674 0.2708202  0.04078928 0.67841816\n",
      " 0.80155116 0.47543734 0.741426   0.8088848  0.86546516 0.10172255]\n",
      "[0.48744005 0.5126683  0.5269814  0.5853971  0.4942495  0.3908105\n",
      " 0.45692253 0.6022935  0.509541   0.47863638 0.5500137  0.51126546\n",
      " 0.5001049  0.44320637 0.51591027 0.6063554  0.44825798 0.5662143\n",
      " 0.4987202  0.4482413  0.47465855 0.5629127  0.47026962 0.39364392\n",
      " 0.47674027 0.47783822 0.50789744 0.52533424 0.4427812  0.43341202]\n"
     ]
    }
   ],
   "source": [
    "encoded = encoder.predict(x_test)\n",
    "decoded = decoder.predict(encoded)\n",
    "\n",
    "print(x_test[207])\n",
    "print(decoded[207])"
   ]
  },
  {
   "cell_type": "code",
   "execution_count": null,
   "id": "41ac8cd0",
   "metadata": {},
   "outputs": [],
   "source": []
  },
  {
   "cell_type": "code",
   "execution_count": 76,
   "id": "3b3afb9a",
   "metadata": {},
   "outputs": [],
   "source": [
    "#error values for autoencoder w/ 1 layer \n",
    "error1 = np.sum(x_test - decoded, axis = 1)"
   ]
  },
  {
   "cell_type": "markdown",
   "id": "e20f4ddd",
   "metadata": {},
   "source": [
    "# Part 2.2 Deep Autoencoder\n",
    "## Number of hidden layer nodes = 2 \n",
    "## 2 Layers "
   ]
  },
  {
   "cell_type": "code",
   "execution_count": 85,
   "id": "a766a298",
   "metadata": {},
   "outputs": [],
   "source": [
    "# number of hidden layers \n",
    "encoding_dim_1 = 2\n",
    "encoding_dim_2 = 2\n",
    "\n",
    "\n",
    "# input dimensions \n",
    "input_img = Input(shape=(30,))\n",
    "\n",
    "# encoded representation of the input\n",
    "encoded_1 = Dense(encoding_dim_1, activation='relu')(input_img)\n",
    "encoded_2 = Dense(encoding_dim_2, activation='relu')(encoded_1)\n",
    "\n",
    "\n",
    "# lossy reconstruction of the input\n",
    "# sigmoid activation function produces bad results, tanh is better \n",
    "decoded_1 = Dense(encoding_dim_1, activation='relu')(encoded_2)\n",
    "decoded_2 = Dense(30, activation='sigmoid')(decoded_1)\n",
    "\n",
    "\n",
    "autoencoder = Model(input_img, decoded_2)\n",
    "\n",
    "\n",
    "encoder2 = Model(input_img, encoded_2)\n",
    "# encoded input into the decoder\n",
    "encoded_input = Input(shape=(encoding_dim_2,)) \n",
    "\n",
    "\n",
    "\n",
    "decoder_layer_1 = autoencoder.layers[-2]\n",
    "decoder_layer_2 = autoencoder.layers[-1]\n",
    "\n",
    "decoder2 = Model(encoded_input, decoder_layer_2(decoder_layer_1(encoded_input)))\n"
   ]
  },
  {
   "cell_type": "code",
   "execution_count": 86,
   "id": "54689313",
   "metadata": {},
   "outputs": [],
   "source": [
    "autoencoder.compile(optimizer='adam', loss = 'binary_crossentropy')"
   ]
  },
  {
   "cell_type": "code",
   "execution_count": 87,
   "id": "e72b2407",
   "metadata": {},
   "outputs": [],
   "source": [
    "#split training and testing data \n",
    "x_train, x_test, = train_test_split(test, test_size=0.1, random_state=42)\n",
    "\n",
    "x_train = x_train.astype('float32')\n",
    "x_test = x_test.astype('float32')\n"
   ]
  },
  {
   "cell_type": "code",
   "execution_count": 88,
   "id": "fababea9",
   "metadata": {},
   "outputs": [
    {
     "name": "stdout",
     "output_type": "stream",
     "text": [
      "Epoch 1/10\n",
      "900/900 [==============================] - 1s 822us/step - loss: 0.6895\n",
      "Epoch 2/10\n",
      "900/900 [==============================] - 1s 795us/step - loss: 0.6878\n",
      "Epoch 3/10\n",
      "900/900 [==============================] - 1s 795us/step - loss: 0.6876\n",
      "Epoch 4/10\n",
      "900/900 [==============================] - 1s 800us/step - loss: 0.6876\n",
      "Epoch 5/10\n",
      "900/900 [==============================] - 1s 780us/step - loss: 0.6875\n",
      "Epoch 6/10\n",
      "900/900 [==============================] - 1s 806us/step - loss: 0.6875\n",
      "Epoch 7/10\n",
      "900/900 [==============================] - 1s 825us/step - loss: 0.6875\n",
      "Epoch 8/10\n",
      "900/900 [==============================] - 1s 803us/step - loss: 0.6875\n",
      "Epoch 9/10\n",
      "900/900 [==============================] - 1s 812us/step - loss: 0.6875\n",
      "Epoch 10/10\n",
      "900/900 [==============================] - 1s 822us/step - loss: 0.6875\n",
      "Model: \"model_21\"\n",
      "_________________________________________________________________\n",
      " Layer (type)                Output Shape              Param #   \n",
      "=================================================================\n",
      " input_15 (InputLayer)       [(None, 30)]              0         \n",
      "                                                                 \n",
      " dense_18 (Dense)            (None, 2)                 62        \n",
      "                                                                 \n",
      " dense_19 (Dense)            (None, 2)                 6         \n",
      "                                                                 \n",
      " dense_20 (Dense)            (None, 2)                 6         \n",
      "                                                                 \n",
      " dense_21 (Dense)            (None, 30)                90        \n",
      "                                                                 \n",
      "=================================================================\n",
      "Total params: 164\n",
      "Trainable params: 164\n",
      "Non-trainable params: 0\n",
      "_________________________________________________________________\n"
     ]
    }
   ],
   "source": [
    "# train the model\n",
    "autoencoder.fit(x_train,\n",
    "                x_train,\n",
    "                epochs=10,\n",
    "                batch_size=100,\n",
    "                shuffle=True)\n",
    "\n",
    "autoencoder.summary()"
   ]
  },
  {
   "cell_type": "code",
   "execution_count": 89,
   "id": "0df4afa2",
   "metadata": {},
   "outputs": [],
   "source": [
    "encoded = encoder2.predict(x_test)\n",
    "decoded = decoder2.predict(encoded)"
   ]
  },
  {
   "cell_type": "code",
   "execution_count": null,
   "id": "d99cf2cb",
   "metadata": {},
   "outputs": [],
   "source": []
  },
  {
   "cell_type": "code",
   "execution_count": 90,
   "id": "d25eed57",
   "metadata": {},
   "outputs": [
    {
     "name": "stdout",
     "output_type": "stream",
     "text": [
      "6.3901896\n"
     ]
    }
   ],
   "source": [
    "# error values for 2 hidden layer network \n",
    "error2 = np.sum(x_test - decoded, axis = 1)\n",
    "print(max(error2))"
   ]
  },
  {
   "cell_type": "markdown",
   "id": "2e199a92",
   "metadata": {},
   "source": [
    "# Histogram of Reconstruction Errors for Layer =1 and Layer = 2 "
   ]
  },
  {
   "cell_type": "code",
   "execution_count": 91,
   "id": "a55719aa",
   "metadata": {},
   "outputs": [
    {
     "data": {
      "image/png": "[encoded data removed]",
      "text/plain": [
       "<Figure size 864x720 with 3 Axes>"
      ]
     },
     "metadata": {
      "needs_background": "light"
     },
     "output_type": "display_data"
    }
   ],
   "source": [
    "\n",
    "bins = np.linspace(-20, 20, 50)\n",
    "\n",
    "\n",
    "fig, ax = plt.subplots(3, figsize = (12, 10), sharex = True)\n",
    "ax[0].hist(error1, bins = bins, edgecolor = 'black', alpha = 0.5, label = '1 Node')\n",
    "ax[0].grid(linestyle = '--')\n",
    "ax[0].set_title('1 Hidden Layer')\n",
    "\n",
    "ax[1].hist(error2, bins = bins, color = 'red', edgecolor = 'black', alpha = 0.5, label = '2 Node')\n",
    "ax[1].grid(linestyle = '--')\n",
    "ax[1].set_title('2 Hidden Layers')\n",
    "\n",
    "ax[2].hist(error1, bins = bins, edgecolor = 'black', alpha = 0.5, label = '1 Node')\n",
    "ax[2].hist(error2, bins = bins, color = 'red', edgecolor = 'black', alpha = 0.5, label = '2 Node')\n",
    "ax[2].legend(fontsize = 14)\n",
    "ax[2].set_xlabel('Error', fontsize = 18)\n",
    "ax[2].grid(linestyle = '--')\n",
    "ax[2].set_title('Overlapped Errors')\n",
    "\n",
    "\n",
    "plt.show()"
   ]
  },
  {
   "cell_type": "code",
   "execution_count": 92,
   "id": "a7c91297",
   "metadata": {},
   "outputs": [
    {
     "name": "stdout",
     "output_type": "stream",
     "text": [
      "-0.0019508774 1.5660173\n",
      "-0.019897424 1.5883126\n"
     ]
    }
   ],
   "source": [
    "print(np.average(error1), np.std(error1))\n",
    "print(np.average(error2), np.std(error2))"
   ]
  },
  {
   "cell_type": "markdown",
   "id": "e60a55ad",
   "metadata": {},
   "source": [
    "we can see from the histogram that the autoencoder with one hidden layer has a higher loss than the autoencoder with two hidden layers"
   ]
  }
 ],
 "metadata": {
  "kernelspec": {
   "display_name": "Python 3",
   "language": "python",
   "name": "python3"
  },
  "language_info": {
   "codemirror_mode": {
    "name": "ipython",
    "version": 3
   },
   "file_extension": ".py",
   "mimetype": "text/x-python",
   "name": "python",
   "nbconvert_exporter": "python",
   "pygments_lexer": "ipython3",
   "version": "3.8.5"
  }
 },
 "nbformat": 4,
 "nbformat_minor": 5
}
